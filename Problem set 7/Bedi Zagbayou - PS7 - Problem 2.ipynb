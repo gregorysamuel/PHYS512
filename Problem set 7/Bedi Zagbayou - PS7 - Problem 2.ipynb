{
 "cells": [
  {
   "cell_type": "code",
   "execution_count": 1,
   "metadata": {
    "collapsed": true
   },
   "outputs": [],
   "source": [
    "import numpy as np\n",
    "from matplotlib import pyplot as plt"
   ]
  },
  {
   "cell_type": "markdown",
   "metadata": {},
   "source": [
    "# Problem 1"
   ]
  },
  {
   "cell_type": "markdown",
   "metadata": {},
   "source": [
    "Ths problem has been treated by hand and the PDF is in the folder. Sorry, I could'nt cpoy it here on time!"
   ]
  },
  {
   "cell_type": "markdown",
   "metadata": {},
   "source": [
    "# Problem 2"
   ]
  },
  {
   "cell_type": "markdown",
   "metadata": {},
   "source": [
    "The code below is based on the one that Jon gave us in the class. It has been changed to fit the condition on the Green function, and to change the way it uses the mask."
   ]
  },
  {
   "cell_type": "code",
   "execution_count": 2,
   "metadata": {
    "collapsed": true
   },
   "outputs": [],
   "source": [
    "def greens(n,ndim=2):\n",
    "    dx=np.arange(n)\n",
    "    dx[n//2:]=dx[n//2:]-n\n",
    "    if ndim==2:\n",
    "        pot=np.zeros([n,n])\n",
    "        xmat,ymat=np.meshgrid(dx,dx)\n",
    "        dr=np.sqrt(xmat**2+ymat**2)\n",
    "        dr[0,0]=1 \n",
    "        pot=np.log(dr)\n",
    "        pot[0,0]=4*pot[1,0]-pot[2,0]-pot[1,1]-pot[1,-1]\n",
    "        return pot/pot[0,0]"
   ]
  },
  {
   "cell_type": "code",
   "execution_count": 3,
   "metadata": {
    "collapsed": true
   },
   "outputs": [],
   "source": [
    "def rho2pot(rho,kernelft):\n",
    "    tmp=rho.copy()\n",
    "    tmp=np.pad(tmp,(0,tmp.shape[0]),mode='constant')\n",
    "\n",
    "    tmpft=np.fft.rfftn(tmp)\n",
    "    tmp=np.fft.irfftn(tmpft*kernelft)\n",
    "    if len(rho.shape)==2:\n",
    "        tmp=tmp[:rho.shape[0],:rho.shape[1]]\n",
    "        return tmp\n",
    "    print(\"error in rho2pot - unexpected number of dimensions\")\n",
    "    assert(1==0)"
   ]
  },
  {
   "cell_type": "code",
   "execution_count": 4,
   "metadata": {
    "collapsed": true
   },
   "outputs": [],
   "source": [
    "def rho2pot_masked(rho,mask,kernelft,return_mat=False):\n",
    "    rhomat=np.zeros(mask.shape)\n",
    "    rhomat=rho*mask    \n",
    "    potmat=rho2pot(rhomat,kernelft)\n",
    "    if return_mat:\n",
    "        return potmat\n",
    "    else:\n",
    "        return potmat*mask"
   ]
  },
  {
   "cell_type": "code",
   "execution_count": 5,
   "metadata": {
    "collapsed": true
   },
   "outputs": [],
   "source": [
    "def cg(rhs,x0,mask,kernelft,niter,fun=rho2pot_masked,show_steps=False,step_pause=0.01):\n",
    "\n",
    "    Ax=fun(x0,mask,kernelft)\n",
    "    r=rhs-Ax\n",
    "    p=r.copy()\n",
    "    x=x0.copy()\n",
    "    rsqr=np.sum(r*r)\n",
    "    print('starting rsqr is ',rsqr)\n",
    "    for k in range(niter):\n",
    "        #Ap=ax_2d(p,mask)\n",
    "        Ap=fun(p,mask,kernelft)\n",
    "        alpha=np.sum(r*r)/np.sum(Ap*p)\n",
    "        x=x+alpha*p\n",
    "        if show_steps:            \n",
    "            tmp=fun(x,mask,kernelft,True)\n",
    "#            plt.clf();\n",
    "#            plt.imshow(tmp)#,vmin=-2.1,vmax=2.1)\n",
    "#            plt.colorbar()\n",
    "            plt.pause(step_pause)\n",
    "        r=r-alpha*Ap\n",
    "        rsqr_new=np.sum(r*r)\n",
    "        beta=rsqr_new/rsqr\n",
    "        p=r+beta*p\n",
    "        rsqr=rsqr_new\n",
    "    print('final rsqr is ',rsqr)\n",
    "    return x"
   ]
  },
  {
   "cell_type": "code",
   "execution_count": 6,
   "metadata": {
    "collapsed": true
   },
   "outputs": [],
   "source": [
    "def get_rhs(pot):\n",
    "    tot=0\n",
    "    ndim=len(pot.shape)\n",
    "    for dim in range(ndim):\n",
    "        tot=tot+np.roll(pot,1,dim)\n",
    "        tot=tot+np.roll(pot,-1,dim)\n",
    "    return tot\n",
    "def get_rho(pot):\n",
    "    tmp=get_rhs(pot)\n",
    "    return 4*pot-tmp\n",
    "plt.ion()"
   ]
  },
  {
   "cell_type": "code",
   "execution_count": 19,
   "metadata": {
    "collapsed": true
   },
   "outputs": [],
   "source": [
    "n=128\n",
    "bc=np.zeros([n,n])\n",
    "mask=np.zeros([n,n],dtype='bool')\n",
    "n1=11*n//32\n",
    "n2=n-n1\n",
    "mask[:,:]=True\n",
    "bc[n1:n2,n1:n2]=1\n",
    "kernel=greens(2*n,2)\n",
    "kernelft=np.fft.rfft2(kernel)\n",
    "rhs=bc*mask\n",
    "x0=0*rhs"
   ]
  },
  {
   "cell_type": "code",
   "execution_count": 20,
   "metadata": {
    "collapsed": false
   },
   "outputs": [
    {
     "name": "stdout",
     "output_type": "stream",
     "text": [
      "starting rsqr is  1600.0\n",
      "final rsqr is  0.0004946055120882238\n"
     ]
    }
   ],
   "source": [
    "rho_out=cg(rhs,x0,mask,kernelft,128,show_steps=True,step_pause=0.25)\n",
    "pot=rho2pot_masked(rho_out,mask,kernelft,True)"
   ]
  },
  {
   "cell_type": "markdown",
   "metadata": {},
   "source": [
    "## Results - part a)\n",
    "Here I show a Green function obtained using the code above. The values at (1,0), (2,0) and (5,0) have also been extracted from the function."
   ]
  },
  {
   "cell_type": "code",
   "execution_count": 25,
   "metadata": {
    "collapsed": false
   },
   "outputs": [
    {
     "name": "stdout",
     "output_type": "stream",
     "text": [
      "The value of V(1,0) is  -0.0\n",
      "The value of V(2,0) is  -0.49999999999999994\n",
      "The value of V(5,0) is  -1.1609640474436809\n"
     ]
    },
    {
     "data": {
      "image/png": "[encoded data removed]",
      "text/plain": [
       "<Figure size 432x288 with 1 Axes>"
      ]
     },
     "metadata": {},
     "output_type": "display_data"
    }
   ],
   "source": [
    "#plt.imshow(kernel)\n",
    "print('The value of V(1,0) is ',kernel[1,0])\n",
    "print('The value of V(2,0) is ',kernel[2,0])\n",
    "print('The value of V(5,0) is ',kernel[5,0])"
   ]
  },
  {
   "cell_type": "markdown",
   "metadata": {},
   "source": [
    "## Results part b)\n",
    "Here I show the charge density on the top side of the box that I used. For the constraints, I used V=1 everywhere on the box, as specified, but I also used V=0 everywhere outside, which was not specified."
   ]
  },
  {
   "cell_type": "code",
   "execution_count": 26,
   "metadata": {
    "collapsed": false
   },
   "outputs": [
    {
     "data": {
      "text/plain": [
       "Text(0.5, 1.0, 'Top side of the box')"
      ]
     },
     "execution_count": 26,
     "metadata": {},
     "output_type": "execute_result"
    },
    {
     "data": {
      "image/png": "[encoded data removed]",
      "text/plain": [
       "<Figure size 432x288 with 1 Axes>"
      ]
     },
     "metadata": {},
     "output_type": "display_data"
    }
   ],
   "source": [
    "plt.plot(rho_out[:,n1])\n",
    "plt.xlabel('x')\n",
    "plt.ylabel('Charge density')\n",
    "plt.title('Top side of the box')"
   ]
  },
  {
   "cell_type": "markdown",
   "metadata": {},
   "source": [
    "## Results - part c)\n",
    "Here I show the potential that I derived from the charge distribution, using the convolution with the Green function. I also show that the difference between the expected value and the obtained one is small, through the mean and the standard deviation. I didn't have the time to generate the field, so I don't have any results concerning that :-("
   ]
  },
  {
   "cell_type": "code",
   "execution_count": 23,
   "metadata": {
    "collapsed": false
   },
   "outputs": [
    {
     "name": "stdout",
     "output_type": "stream",
     "text": [
      "The mean potential on the square is  0.9999656009358836 , and the standard deviation is 4.632170522934719e-05\n"
     ]
    },
    {
     "data": {
      "image/png": "[encoded data removed]",
      "text/plain": [
       "<Figure size 432x288 with 1 Axes>"
      ]
     },
     "metadata": {},
     "output_type": "display_data"
    }
   ],
   "source": [
    "plt.imshow(pot)\n",
    "std=np.std(pot[n1:n2,n1:n2])\n",
    "mean=np.mean(pot[n1:n2,n1:n2])\n",
    "print('The mean potential on the square is ',mean,', and the standard deviation is',std)"
   ]
  },
  {
   "cell_type": "code",
   "execution_count": null,
   "metadata": {
    "collapsed": true
   },
   "outputs": [],
   "source": []
  }
 ],
 "metadata": {
  "kernelspec": {
   "display_name": "Python [conda env:Anaconda3]",
   "language": "python",
   "name": "conda-env-Anaconda3-py"
  },
  "language_info": {
   "codemirror_mode": {
    "name": "ipython",
    "version": 3
   },
   "file_extension": ".py",
   "mimetype": "text/x-python",
   "name": "python",
   "nbconvert_exporter": "python",
   "pygments_lexer": "ipython3",
   "version": "3.5.2"
  }
 },
 "nbformat": 4,
 "nbformat_minor": 1
}
